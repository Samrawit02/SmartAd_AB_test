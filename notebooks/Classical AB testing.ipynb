{
 "cells": [
  {
   "cell_type": "code",
   "execution_count": 67,
   "id": "fc47e55a",
   "metadata": {},
   "outputs": [],
   "source": [
    "import pandas as pd\n",
    "from matplotlib import pyplot as plt\n",
    "import numpy as np\n",
    "import scipy.stats as scs"
   ]
  },
  {
   "cell_type": "code",
   "execution_count": 68,
   "id": "f62b860d",
   "metadata": {},
   "outputs": [
    {
     "data": {
      "text/html": [
       "<div>\n",
       "<style scoped>\n",
       "    .dataframe tbody tr th:only-of-type {\n",
       "        vertical-align: middle;\n",
       "    }\n",
       "\n",
       "    .dataframe tbody tr th {\n",
       "        vertical-align: top;\n",
       "    }\n",
       "\n",
       "    .dataframe thead th {\n",
       "        text-align: right;\n",
       "    }\n",
       "</style>\n",
       "<table border=\"1\" class=\"dataframe\">\n",
       "  <thead>\n",
       "    <tr style=\"text-align: right;\">\n",
       "      <th></th>\n",
       "      <th>auction_id</th>\n",
       "      <th>experiment</th>\n",
       "      <th>date</th>\n",
       "      <th>hour</th>\n",
       "      <th>device_make</th>\n",
       "      <th>platform_os</th>\n",
       "      <th>browser</th>\n",
       "      <th>yes</th>\n",
       "      <th>no</th>\n",
       "    </tr>\n",
       "  </thead>\n",
       "  <tbody>\n",
       "    <tr>\n",
       "      <th>0</th>\n",
       "      <td>0008ef63-77a7-448b-bd1e-075f42c55e39</td>\n",
       "      <td>exposed</td>\n",
       "      <td>2020-07-10</td>\n",
       "      <td>8</td>\n",
       "      <td>Generic Smartphone</td>\n",
       "      <td>6</td>\n",
       "      <td>Chrome Mobile</td>\n",
       "      <td>0</td>\n",
       "      <td>0</td>\n",
       "    </tr>\n",
       "    <tr>\n",
       "      <th>1</th>\n",
       "      <td>000eabc5-17ce-4137-8efe-44734d914446</td>\n",
       "      <td>exposed</td>\n",
       "      <td>2020-07-07</td>\n",
       "      <td>10</td>\n",
       "      <td>Generic Smartphone</td>\n",
       "      <td>6</td>\n",
       "      <td>Chrome Mobile</td>\n",
       "      <td>0</td>\n",
       "      <td>0</td>\n",
       "    </tr>\n",
       "    <tr>\n",
       "      <th>2</th>\n",
       "      <td>0016d14a-ae18-4a02-a204-6ba53b52f2ed</td>\n",
       "      <td>exposed</td>\n",
       "      <td>2020-07-05</td>\n",
       "      <td>2</td>\n",
       "      <td>E5823</td>\n",
       "      <td>6</td>\n",
       "      <td>Chrome Mobile WebView</td>\n",
       "      <td>0</td>\n",
       "      <td>1</td>\n",
       "    </tr>\n",
       "    <tr>\n",
       "      <th>3</th>\n",
       "      <td>00187412-2932-4542-a8ef-3633901c98d9</td>\n",
       "      <td>control</td>\n",
       "      <td>2020-07-03</td>\n",
       "      <td>15</td>\n",
       "      <td>Samsung SM-A705FN</td>\n",
       "      <td>6</td>\n",
       "      <td>Facebook</td>\n",
       "      <td>0</td>\n",
       "      <td>0</td>\n",
       "    </tr>\n",
       "    <tr>\n",
       "      <th>4</th>\n",
       "      <td>001a7785-d3fe-4e11-a344-c8735acacc2c</td>\n",
       "      <td>control</td>\n",
       "      <td>2020-07-03</td>\n",
       "      <td>15</td>\n",
       "      <td>Generic Smartphone</td>\n",
       "      <td>6</td>\n",
       "      <td>Chrome Mobile</td>\n",
       "      <td>0</td>\n",
       "      <td>0</td>\n",
       "    </tr>\n",
       "  </tbody>\n",
       "</table>\n",
       "</div>"
      ],
      "text/plain": [
       "                             auction_id experiment        date  hour  \\\n",
       "0  0008ef63-77a7-448b-bd1e-075f42c55e39    exposed  2020-07-10     8   \n",
       "1  000eabc5-17ce-4137-8efe-44734d914446    exposed  2020-07-07    10   \n",
       "2  0016d14a-ae18-4a02-a204-6ba53b52f2ed    exposed  2020-07-05     2   \n",
       "3  00187412-2932-4542-a8ef-3633901c98d9    control  2020-07-03    15   \n",
       "4  001a7785-d3fe-4e11-a344-c8735acacc2c    control  2020-07-03    15   \n",
       "\n",
       "          device_make  platform_os                browser  yes  no  \n",
       "0  Generic Smartphone            6          Chrome Mobile    0   0  \n",
       "1  Generic Smartphone            6          Chrome Mobile    0   0  \n",
       "2               E5823            6  Chrome Mobile WebView    0   1  \n",
       "3   Samsung SM-A705FN            6               Facebook    0   0  \n",
       "4  Generic Smartphone            6          Chrome Mobile    0   0  "
      ]
     },
     "execution_count": 68,
     "metadata": {},
     "output_type": "execute_result"
    }
   ],
   "source": [
    "df = pd.read_csv('../data/AdSmartABdata.csv')\n",
    "df.head()"
   ]
  },
  {
   "cell_type": "code",
   "execution_count": 69,
   "id": "60ced0cd",
   "metadata": {},
   "outputs": [
    {
     "data": {
      "text/plain": [
       "1243"
      ]
     },
     "execution_count": 69,
     "metadata": {},
     "output_type": "execute_result"
    }
   ],
   "source": [
    "#Determining the users who responded to the ads\n",
    "\n",
    "response_df = df.query(\"(yes == 1 or no == 1)\")\n",
    "response_df.shape[0]"
   ]
  },
  {
   "cell_type": "code",
   "execution_count": 70,
   "id": "1ad242c8",
   "metadata": {},
   "outputs": [
    {
     "data": {
      "text/plain": [
       "8077"
      ]
     },
     "execution_count": 70,
     "metadata": {},
     "output_type": "execute_result"
    }
   ],
   "source": [
    "#Total number of users\n",
    "df.shape[0]"
   ]
  },
  {
   "cell_type": "markdown",
   "id": "c0458b93",
   "metadata": {},
   "source": [
    "Out of the 8077 users, only 1243 responded to the questionnaire"
   ]
  },
  {
   "cell_type": "code",
   "execution_count": 71,
   "id": "fa7b2e51",
   "metadata": {
    "scrolled": true
   },
   "outputs": [
    {
     "data": {
      "text/html": [
       "<div>\n",
       "<style scoped>\n",
       "    .dataframe tbody tr th:only-of-type {\n",
       "        vertical-align: middle;\n",
       "    }\n",
       "\n",
       "    .dataframe tbody tr th {\n",
       "        vertical-align: top;\n",
       "    }\n",
       "\n",
       "    .dataframe thead th {\n",
       "        text-align: right;\n",
       "    }\n",
       "</style>\n",
       "<table border=\"1\" class=\"dataframe\">\n",
       "  <thead>\n",
       "    <tr style=\"text-align: right;\">\n",
       "      <th></th>\n",
       "      <th>auction_id</th>\n",
       "      <th>experiment</th>\n",
       "      <th>yes</th>\n",
       "      <th>no</th>\n",
       "    </tr>\n",
       "  </thead>\n",
       "  <tbody>\n",
       "    <tr>\n",
       "      <th>2</th>\n",
       "      <td>0016d14a-ae18-4a02-a204-6ba53b52f2ed</td>\n",
       "      <td>exposed</td>\n",
       "      <td>0</td>\n",
       "      <td>1</td>\n",
       "    </tr>\n",
       "    <tr>\n",
       "      <th>16</th>\n",
       "      <td>008aafdf-deef-4482-8fec-d98e3da054da</td>\n",
       "      <td>exposed</td>\n",
       "      <td>1</td>\n",
       "      <td>0</td>\n",
       "    </tr>\n",
       "    <tr>\n",
       "      <th>20</th>\n",
       "      <td>00a1384a-5118-4d1b-925b-6cdada50318d</td>\n",
       "      <td>exposed</td>\n",
       "      <td>0</td>\n",
       "      <td>1</td>\n",
       "    </tr>\n",
       "    <tr>\n",
       "      <th>23</th>\n",
       "      <td>00b6fadb-10bd-49e3-a778-290da82f7a8d</td>\n",
       "      <td>control</td>\n",
       "      <td>1</td>\n",
       "      <td>0</td>\n",
       "    </tr>\n",
       "    <tr>\n",
       "      <th>27</th>\n",
       "      <td>00ebf4a8-060f-4b99-93ac-c62724399483</td>\n",
       "      <td>control</td>\n",
       "      <td>0</td>\n",
       "      <td>1</td>\n",
       "    </tr>\n",
       "    <tr>\n",
       "      <th>...</th>\n",
       "      <td>...</td>\n",
       "      <td>...</td>\n",
       "      <td>...</td>\n",
       "      <td>...</td>\n",
       "    </tr>\n",
       "    <tr>\n",
       "      <th>8059</th>\n",
       "      <td>ffa08ff9-a132-4051-aef5-01a9c79367bc</td>\n",
       "      <td>exposed</td>\n",
       "      <td>1</td>\n",
       "      <td>0</td>\n",
       "    </tr>\n",
       "    <tr>\n",
       "      <th>8063</th>\n",
       "      <td>ffb176df-ecd2-45d3-b05f-05b173a093a7</td>\n",
       "      <td>exposed</td>\n",
       "      <td>1</td>\n",
       "      <td>0</td>\n",
       "    </tr>\n",
       "    <tr>\n",
       "      <th>8064</th>\n",
       "      <td>ffb79718-6f25-4896-b6b3-e58b80a6e147</td>\n",
       "      <td>control</td>\n",
       "      <td>0</td>\n",
       "      <td>1</td>\n",
       "    </tr>\n",
       "    <tr>\n",
       "      <th>8069</th>\n",
       "      <td>ffca1153-c182-4f32-9e90-2a6008417497</td>\n",
       "      <td>control</td>\n",
       "      <td>0</td>\n",
       "      <td>1</td>\n",
       "    </tr>\n",
       "    <tr>\n",
       "      <th>8071</th>\n",
       "      <td>ffdfdc09-48c7-4bfb-80f8-ec1eb633602b</td>\n",
       "      <td>exposed</td>\n",
       "      <td>0</td>\n",
       "      <td>1</td>\n",
       "    </tr>\n",
       "  </tbody>\n",
       "</table>\n",
       "<p>1243 rows × 4 columns</p>\n",
       "</div>"
      ],
      "text/plain": [
       "                                auction_id experiment  yes  no\n",
       "2     0016d14a-ae18-4a02-a204-6ba53b52f2ed    exposed    0   1\n",
       "16    008aafdf-deef-4482-8fec-d98e3da054da    exposed    1   0\n",
       "20    00a1384a-5118-4d1b-925b-6cdada50318d    exposed    0   1\n",
       "23    00b6fadb-10bd-49e3-a778-290da82f7a8d    control    1   0\n",
       "27    00ebf4a8-060f-4b99-93ac-c62724399483    control    0   1\n",
       "...                                    ...        ...  ...  ..\n",
       "8059  ffa08ff9-a132-4051-aef5-01a9c79367bc    exposed    1   0\n",
       "8063  ffb176df-ecd2-45d3-b05f-05b173a093a7    exposed    1   0\n",
       "8064  ffb79718-6f25-4896-b6b3-e58b80a6e147    control    0   1\n",
       "8069  ffca1153-c182-4f32-9e90-2a6008417497    control    0   1\n",
       "8071  ffdfdc09-48c7-4bfb-80f8-ec1eb633602b    exposed    0   1\n",
       "\n",
       "[1243 rows x 4 columns]"
      ]
     },
     "execution_count": 71,
     "metadata": {},
     "output_type": "execute_result"
    }
   ],
   "source": [
    "#Getting clean data containing only users who responded alongside relevant columns for testing\n",
    "\n",
    "clean_df = response_df[['auction_id', 'experiment', 'yes', 'no']]\n",
    "clean_df"
   ]
  },
  {
   "cell_type": "code",
   "execution_count": null,
   "id": "b90a478b",
   "metadata": {},
   "outputs": [],
   "source": []
  },
  {
   "cell_type": "markdown",
   "id": "a0b593c3",
   "metadata": {},
   "source": [
    "The rates of aware users in both the control and exposed groups are as shown in the yes column above"
   ]
  },
  {
   "cell_type": "code",
   "execution_count": 72,
   "id": "d00fcb7e",
   "metadata": {},
   "outputs": [
    {
     "data": {
      "text/html": [
       "<div>\n",
       "<style scoped>\n",
       "    .dataframe tbody tr th:only-of-type {\n",
       "        vertical-align: middle;\n",
       "    }\n",
       "\n",
       "    .dataframe tbody tr th {\n",
       "        vertical-align: top;\n",
       "    }\n",
       "\n",
       "    .dataframe thead th {\n",
       "        text-align: right;\n",
       "    }\n",
       "</style>\n",
       "<table border=\"1\" class=\"dataframe\">\n",
       "  <thead>\n",
       "    <tr style=\"text-align: right;\">\n",
       "      <th></th>\n",
       "      <th>no</th>\n",
       "      <th>yes</th>\n",
       "      <th>total</th>\n",
       "    </tr>\n",
       "    <tr>\n",
       "      <th>experiment</th>\n",
       "      <th></th>\n",
       "      <th></th>\n",
       "      <th></th>\n",
       "    </tr>\n",
       "  </thead>\n",
       "  <tbody>\n",
       "    <tr>\n",
       "      <th>control</th>\n",
       "      <td>322</td>\n",
       "      <td>264</td>\n",
       "      <td>586</td>\n",
       "    </tr>\n",
       "    <tr>\n",
       "      <th>exposed</th>\n",
       "      <td>349</td>\n",
       "      <td>308</td>\n",
       "      <td>657</td>\n",
       "    </tr>\n",
       "  </tbody>\n",
       "</table>\n",
       "</div>"
      ],
      "text/plain": [
       "             no  yes  total\n",
       "experiment                 \n",
       "control     322  264    586\n",
       "exposed     349  308    657"
      ]
     },
     "execution_count": 72,
     "metadata": {},
     "output_type": "execute_result"
    }
   ],
   "source": [
    "actual_counts = clean_df.pivot_table(index='experiment', aggfunc='sum')\n",
    "actual_counts['total'] = clean_df.pivot_table(values='yes', index='experiment', aggfunc='count')\n",
    "actual_counts\n"
   ]
  },
  {
   "cell_type": "markdown",
   "id": "11a9d91a",
   "metadata": {},
   "source": [
    "The actual number of users aware and those not aware of the ad and the totals for each group"
   ]
  },
  {
   "cell_type": "code",
   "execution_count": 73,
   "id": "0784566b",
   "metadata": {
    "scrolled": true
   },
   "outputs": [
    {
     "data": {
      "text/html": [
       "<div>\n",
       "<style scoped>\n",
       "    .dataframe tbody tr th:only-of-type {\n",
       "        vertical-align: middle;\n",
       "    }\n",
       "\n",
       "    .dataframe tbody tr th {\n",
       "        vertical-align: top;\n",
       "    }\n",
       "\n",
       "    .dataframe thead th {\n",
       "        text-align: right;\n",
       "    }\n",
       "</style>\n",
       "<table border=\"1\" class=\"dataframe\">\n",
       "  <thead>\n",
       "    <tr style=\"text-align: right;\">\n",
       "      <th></th>\n",
       "      <th>no</th>\n",
       "      <th>yes</th>\n",
       "    </tr>\n",
       "    <tr>\n",
       "      <th>experiment</th>\n",
       "      <th></th>\n",
       "      <th></th>\n",
       "    </tr>\n",
       "  </thead>\n",
       "  <tbody>\n",
       "    <tr>\n",
       "      <th>control</th>\n",
       "      <td>0.549488</td>\n",
       "      <td>0.450512</td>\n",
       "    </tr>\n",
       "    <tr>\n",
       "      <th>exposed</th>\n",
       "      <td>0.531202</td>\n",
       "      <td>0.468798</td>\n",
       "    </tr>\n",
       "  </tbody>\n",
       "</table>\n",
       "</div>"
      ],
      "text/plain": [
       "                  no       yes\n",
       "experiment                    \n",
       "control     0.549488  0.450512\n",
       "exposed     0.531202  0.468798"
      ]
     },
     "execution_count": 73,
     "metadata": {},
     "output_type": "execute_result"
    }
   ],
   "source": [
    "#Determining the number of users aware or not between the two groups to determine their conversion rates\n",
    "\n",
    "conversion_rates = clean_df.pivot_table(index='experiment')\n",
    "conversion_rates"
   ]
  },
  {
   "cell_type": "markdown",
   "id": "61ebed9c",
   "metadata": {},
   "source": [
    "## Binomial Distribution"
   ]
  },
  {
   "cell_type": "code",
   "execution_count": 74,
   "id": "77dbbbd6",
   "metadata": {
    "scrolled": true
   },
   "outputs": [],
   "source": [
    "# fig, ax = plt.subplots(figsize=(12,6))\n",
    "# xA = np.linspace(A_converted-49, A_converted+50, 100)\n",
    "# yA = scs.binom(A_total, p_A).pmf(xA)\n",
    "# ax.bar(xA, yA, alpha=0.5)\n",
    "# xB = np.linspace(B_converted-49, B_converted+50, 100)\n",
    "# yB = scs.binom(B_total, p_B).pmf(xB)\n",
    "# ax.bar(xB, yB, alpha=0.5)\n",
    "# plt.xlabel('converted')\n",
    "# plt.ylabel('probability')"
   ]
  },
  {
   "cell_type": "markdown",
   "id": "e97f553c",
   "metadata": {},
   "source": [
    "The above is a template for drawing the binomial distribution for the null and alternative hypothesis"
   ]
  },
  {
   "cell_type": "code",
   "execution_count": 82,
   "id": "93356cd5",
   "metadata": {},
   "outputs": [
    {
     "name": "stdout",
     "output_type": "stream",
     "text": [
      "D:\\10 Academy\\Week 2\\SmartAd_AB_test\\scripts\n"
     ]
    }
   ],
   "source": [
    "%cd ../scripts\n",
    "\n",
    "import DistributionPlots as dp\n",
    "import ABTestingFunctions as ab"
   ]
  },
  {
   "cell_type": "code",
   "execution_count": 83,
   "id": "92d1ab85",
   "metadata": {
    "scrolled": true
   },
   "outputs": [
    {
     "data": {
      "image/png": "[encoded data removed]",
      "text/plain": [
       "<Figure size 864x432 with 1 Axes>"
      ]
     },
     "metadata": {
      "needs_background": "light"
     },
     "output_type": "display_data"
    }
   ],
   "source": [
    "import DistributionPlots as dp\n",
    "\n",
    "new = dp.DistributionPlots()\n",
    "\n",
    "new.cont_exp_distribution(control_aware, expose_aware, control_total, exposed_total, control_conversion_rate, exposed_conversion_rate)"
   ]
  },
  {
   "cell_type": "code",
   "execution_count": 84,
   "id": "b747ff7a",
   "metadata": {},
   "outputs": [
    {
     "ename": "TypeError",
     "evalue": "show_area() got multiple values for argument 'area_type'",
     "output_type": "error",
     "traceback": [
      "\u001b[1;31m---------------------------------------------------------------------------\u001b[0m",
      "\u001b[1;31mTypeError\u001b[0m                                 Traceback (most recent call last)",
      "\u001b[1;32m<ipython-input-84-d835f2fc8847>\u001b[0m in \u001b[0;36m<module>\u001b[1;34m\u001b[0m\n\u001b[1;32m----> 1\u001b[1;33m \u001b[0mnew\u001b[0m\u001b[1;33m.\u001b[0m\u001b[0mnull_alt_distribution\u001b[0m\u001b[1;33m(\u001b[0m\u001b[0mcontrol_total\u001b[0m\u001b[1;33m,\u001b[0m \u001b[0mexposed_total\u001b[0m\u001b[1;33m,\u001b[0m\u001b[0mcontrol_conversion_rate\u001b[0m\u001b[1;33m,\u001b[0m \u001b[0mexposed_conversion_rate\u001b[0m\u001b[1;33m)\u001b[0m\u001b[1;33m\u001b[0m\u001b[1;33m\u001b[0m\u001b[0m\n\u001b[0m",
      "\u001b[1;32mD:\\10 Academy\\Week 2\\SmartAd_AB_test\\scripts\\DistributionPlots.py\u001b[0m in \u001b[0;36mnull_alt_distribution\u001b[1;34m(self, C_total, E_total, C_cr, E_cr)\u001b[0m\n\u001b[0;32m     48\u001b[0m         \u001b[0mbcr\u001b[0m \u001b[1;33m=\u001b[0m \u001b[0mC_cr\u001b[0m\u001b[1;33m\u001b[0m\u001b[1;33m\u001b[0m\u001b[0m\n\u001b[0;32m     49\u001b[0m         \u001b[0mmde\u001b[0m \u001b[1;33m=\u001b[0m \u001b[0mE_cr\u001b[0m \u001b[1;33m-\u001b[0m \u001b[0mC_cr\u001b[0m\u001b[1;33m\u001b[0m\u001b[1;33m\u001b[0m\u001b[0m\n\u001b[1;32m---> 50\u001b[1;33m         \u001b[0mHPP\u001b[0m\u001b[1;33m.\u001b[0m\u001b[0mhypo_plot\u001b[0m\u001b[1;33m(\u001b[0m\u001b[0mC_total\u001b[0m\u001b[1;33m,\u001b[0m \u001b[0mE_total\u001b[0m\u001b[1;33m,\u001b[0m \u001b[0mbcr\u001b[0m\u001b[1;33m,\u001b[0m \u001b[0mmde\u001b[0m\u001b[1;33m,\u001b[0m \u001b[0mshow_power\u001b[0m\u001b[1;33m=\u001b[0m\u001b[1;32mTrue\u001b[0m\u001b[1;33m,\u001b[0m \u001b[0mshow_beta\u001b[0m\u001b[1;33m=\u001b[0m\u001b[1;32mTrue\u001b[0m\u001b[1;33m,\u001b[0m \u001b[0mshow_alpha\u001b[0m\u001b[1;33m=\u001b[0m\u001b[1;32mTrue\u001b[0m\u001b[1;33m,\u001b[0m \u001b[0mshow_p_value\u001b[0m\u001b[1;33m=\u001b[0m\u001b[1;32mTrue\u001b[0m\u001b[1;33m)\u001b[0m\u001b[1;33m\u001b[0m\u001b[1;33m\u001b[0m\u001b[0m\n\u001b[0m",
      "\u001b[1;32mD:\\10 Academy\\Week 2\\SmartAd_AB_test\\scripts\\HypothesisPlot.py\u001b[0m in \u001b[0;36mhypo_plot\u001b[1;34m(self, Control, Exposed, bcr, mde, sig_level, show_power, show_beta, show_alpha, show_p_value, show_legend)\u001b[0m\n\u001b[0;32m     53\u001b[0m         \u001b[1;31m# shade areas according to user input\u001b[0m\u001b[1;33m\u001b[0m\u001b[1;33m\u001b[0m\u001b[1;33m\u001b[0m\u001b[0m\n\u001b[0;32m     54\u001b[0m         \u001b[1;32mif\u001b[0m \u001b[0mshow_power\u001b[0m\u001b[1;33m:\u001b[0m\u001b[1;33m\u001b[0m\u001b[1;33m\u001b[0m\u001b[0m\n\u001b[1;32m---> 55\u001b[1;33m             \u001b[0mPLTF\u001b[0m\u001b[1;33m.\u001b[0m\u001b[0mshow_area\u001b[0m\u001b[1;33m(\u001b[0m\u001b[0max\u001b[0m\u001b[1;33m,\u001b[0m \u001b[0mmde\u001b[0m\u001b[1;33m,\u001b[0m \u001b[0mstderr\u001b[0m\u001b[1;33m,\u001b[0m \u001b[0msig_level\u001b[0m\u001b[1;33m,\u001b[0m \u001b[0marea_type\u001b[0m\u001b[1;33m=\u001b[0m\u001b[1;34m'power'\u001b[0m\u001b[1;33m)\u001b[0m\u001b[1;33m\u001b[0m\u001b[1;33m\u001b[0m\u001b[0m\n\u001b[0m\u001b[0;32m     56\u001b[0m         \u001b[1;32mif\u001b[0m \u001b[0mshow_alpha\u001b[0m\u001b[1;33m:\u001b[0m\u001b[1;33m\u001b[0m\u001b[1;33m\u001b[0m\u001b[0m\n\u001b[0;32m     57\u001b[0m             \u001b[0mPLTF\u001b[0m\u001b[1;33m.\u001b[0m\u001b[0mshow_area\u001b[0m\u001b[1;33m(\u001b[0m\u001b[0max\u001b[0m\u001b[1;33m,\u001b[0m \u001b[0mmde\u001b[0m\u001b[1;33m,\u001b[0m \u001b[0mstderr\u001b[0m\u001b[1;33m,\u001b[0m \u001b[0msig_level\u001b[0m\u001b[1;33m,\u001b[0m \u001b[0marea_type\u001b[0m\u001b[1;33m=\u001b[0m\u001b[1;34m'alpha'\u001b[0m\u001b[1;33m)\u001b[0m\u001b[1;33m\u001b[0m\u001b[1;33m\u001b[0m\u001b[0m\n",
      "\u001b[1;31mTypeError\u001b[0m: show_area() got multiple values for argument 'area_type'"
     ]
    },
    {
     "data": {
      "image/png": "[encoded data removed]",
      "text/plain": [
       "<Figure size 864x432 with 1 Axes>"
      ]
     },
     "metadata": {
      "needs_background": "light"
     },
     "output_type": "display_data"
    }
   ],
   "source": [
    "new.null_alt_distribution(control_total, exposed_total,control_conversion_rate, exposed_conversion_rate)"
   ]
  },
  {
   "cell_type": "markdown",
   "id": "48a8cd3d",
   "metadata": {},
   "source": [
    "The grey vertical lines shows the 95% confidence interval for null hypothesis. The statistical power is the area under the graph on the alternative hypothesis that is away from the confidence interval"
   ]
  },
  {
   "cell_type": "code",
   "execution_count": 85,
   "id": "ba8c770a",
   "metadata": {},
   "outputs": [
    {
     "data": {
      "text/plain": [
       "1.959963984540054"
      ]
     },
     "execution_count": 85,
     "metadata": {},
     "output_type": "execute_result"
    }
   ],
   "source": [
    "#Determining the z_value for a given significance level\n",
    "\n",
    "ab = ab.ABTesting()\n",
    "ab.z_val(sig_level=0.05, two_tailed=True)"
   ]
  },
  {
   "cell_type": "markdown",
   "id": "74895eda",
   "metadata": {},
   "source": [
    "The z-score enables us to standardize our variable and perform comparison on the same scale. It enables us to determine whether the the sample mean is significantly different from the population mean."
   ]
  },
  {
   "cell_type": "code",
   "execution_count": 86,
   "id": "bc73a152",
   "metadata": {},
   "outputs": [
    {
     "data": {
      "text/plain": [
       "(-1.959963984540054, 1.959963984540054)"
      ]
     },
     "execution_count": 86,
     "metadata": {},
     "output_type": "execute_result"
    }
   ],
   "source": [
    "#The confidence interval\n",
    "ab.confidence_interval(sample_mean=0, sample_std=1, sample_size=1,\n",
    "                            sig_level=0.05)"
   ]
  },
  {
   "cell_type": "markdown",
   "id": "df34bc0d",
   "metadata": {},
   "source": [
    " Displays the probability that a parameter will fall between a pair of values around the mean"
   ]
  },
  {
   "cell_type": "code",
   "execution_count": 88,
   "id": "414bea2c",
   "metadata": {},
   "outputs": [
    {
     "data": {
      "text/plain": [
       "4.3475346228881034e-05"
      ]
     },
     "execution_count": 88,
     "metadata": {},
     "output_type": "execute_result"
    }
   ],
   "source": [
    "# p_A is the conversion rate of the control group\n",
    "# p_B is the conversion rate of the test group\n",
    "\n",
    "# ab.p_val( Control, Exposed, p_A, p_B)\n",
    "Control = actual_counts['total']['control']\n",
    "Exposed = actual_counts['total']['exposed']\n",
    "p_A = conversion_rates['yes']['control']\n",
    "p_B = conversion_rates['yes']['exposed']\n",
    "\n",
    "ab.p_val( Control, Exposed, p_A, p_B)"
   ]
  },
  {
   "cell_type": "markdown",
   "id": "904c4c3b",
   "metadata": {},
   "source": [
    "The p value is lower than the significance level and therefore we reject the null hypothesis. The new ad resulted into increased user engagement"
   ]
  }
 ],
 "metadata": {
  "kernelspec": {
   "display_name": "10_acad",
   "language": "python",
   "name": "10_acad"
  },
  "language_info": {
   "codemirror_mode": {
    "name": "ipython",
    "version": 3
   },
   "file_extension": ".py",
   "mimetype": "text/x-python",
   "name": "python",
   "nbconvert_exporter": "python",
   "pygments_lexer": "ipython3",
   "version": "3.6.13"
  }
 },
 "nbformat": 4,
 "nbformat_minor": 5
}
