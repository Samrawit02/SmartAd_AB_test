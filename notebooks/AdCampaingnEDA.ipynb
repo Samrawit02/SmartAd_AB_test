{
 "cells": [
  {
   "cell_type": "markdown",
   "id": "029cfedf",
   "metadata": {},
   "source": [
    "# ADCampaign Data Exploration"
   ]
  },
  {
   "cell_type": "markdown",
   "id": "111b6e1d",
   "metadata": {},
   "source": [
    "   ## Data Understanding"
   ]
  },
  {
   "cell_type": "code",
   "execution_count": 3,
   "id": "b6cbb901",
   "metadata": {},
   "outputs": [],
   "source": [
    "import pandas as pd\n",
    "import seaborn as sns\n",
    "from matplotlib import pyplot as plt"
   ]
  },
  {
   "cell_type": "code",
   "execution_count": 13,
   "id": "432f0e11",
   "metadata": {},
   "outputs": [
    {
     "data": {
      "text/html": [
       "<div>\n",
       "<style scoped>\n",
       "    .dataframe tbody tr th:only-of-type {\n",
       "        vertical-align: middle;\n",
       "    }\n",
       "\n",
       "    .dataframe tbody tr th {\n",
       "        vertical-align: top;\n",
       "    }\n",
       "\n",
       "    .dataframe thead th {\n",
       "        text-align: right;\n",
       "    }\n",
       "</style>\n",
       "<table border=\"1\" class=\"dataframe\">\n",
       "  <thead>\n",
       "    <tr style=\"text-align: right;\">\n",
       "      <th></th>\n",
       "      <th>auction_id</th>\n",
       "      <th>experiment</th>\n",
       "      <th>date</th>\n",
       "      <th>hour</th>\n",
       "      <th>device_make</th>\n",
       "      <th>platform_os</th>\n",
       "      <th>browser</th>\n",
       "      <th>yes</th>\n",
       "      <th>no</th>\n",
       "    </tr>\n",
       "  </thead>\n",
       "  <tbody>\n",
       "    <tr>\n",
       "      <th>0</th>\n",
       "      <td>0008ef63-77a7-448b-bd1e-075f42c55e39</td>\n",
       "      <td>exposed</td>\n",
       "      <td>2020-07-10</td>\n",
       "      <td>8</td>\n",
       "      <td>Generic Smartphone</td>\n",
       "      <td>6</td>\n",
       "      <td>Chrome Mobile</td>\n",
       "      <td>0</td>\n",
       "      <td>0</td>\n",
       "    </tr>\n",
       "    <tr>\n",
       "      <th>1</th>\n",
       "      <td>000eabc5-17ce-4137-8efe-44734d914446</td>\n",
       "      <td>exposed</td>\n",
       "      <td>2020-07-07</td>\n",
       "      <td>10</td>\n",
       "      <td>Generic Smartphone</td>\n",
       "      <td>6</td>\n",
       "      <td>Chrome Mobile</td>\n",
       "      <td>0</td>\n",
       "      <td>0</td>\n",
       "    </tr>\n",
       "    <tr>\n",
       "      <th>2</th>\n",
       "      <td>0016d14a-ae18-4a02-a204-6ba53b52f2ed</td>\n",
       "      <td>exposed</td>\n",
       "      <td>2020-07-05</td>\n",
       "      <td>2</td>\n",
       "      <td>E5823</td>\n",
       "      <td>6</td>\n",
       "      <td>Chrome Mobile WebView</td>\n",
       "      <td>0</td>\n",
       "      <td>1</td>\n",
       "    </tr>\n",
       "    <tr>\n",
       "      <th>3</th>\n",
       "      <td>00187412-2932-4542-a8ef-3633901c98d9</td>\n",
       "      <td>control</td>\n",
       "      <td>2020-07-03</td>\n",
       "      <td>15</td>\n",
       "      <td>Samsung SM-A705FN</td>\n",
       "      <td>6</td>\n",
       "      <td>Facebook</td>\n",
       "      <td>0</td>\n",
       "      <td>0</td>\n",
       "    </tr>\n",
       "    <tr>\n",
       "      <th>4</th>\n",
       "      <td>001a7785-d3fe-4e11-a344-c8735acacc2c</td>\n",
       "      <td>control</td>\n",
       "      <td>2020-07-03</td>\n",
       "      <td>15</td>\n",
       "      <td>Generic Smartphone</td>\n",
       "      <td>6</td>\n",
       "      <td>Chrome Mobile</td>\n",
       "      <td>0</td>\n",
       "      <td>0</td>\n",
       "    </tr>\n",
       "    <tr>\n",
       "      <th>...</th>\n",
       "      <td>...</td>\n",
       "      <td>...</td>\n",
       "      <td>...</td>\n",
       "      <td>...</td>\n",
       "      <td>...</td>\n",
       "      <td>...</td>\n",
       "      <td>...</td>\n",
       "      <td>...</td>\n",
       "      <td>...</td>\n",
       "    </tr>\n",
       "    <tr>\n",
       "      <th>8072</th>\n",
       "      <td>ffea24ec-cec1-43fb-b1d1-8f93828c2be2</td>\n",
       "      <td>exposed</td>\n",
       "      <td>2020-07-05</td>\n",
       "      <td>7</td>\n",
       "      <td>Generic Smartphone</td>\n",
       "      <td>6</td>\n",
       "      <td>Chrome Mobile</td>\n",
       "      <td>0</td>\n",
       "      <td>0</td>\n",
       "    </tr>\n",
       "    <tr>\n",
       "      <th>8073</th>\n",
       "      <td>ffea3210-2c3e-426f-a77d-0aa72e73b20f</td>\n",
       "      <td>control</td>\n",
       "      <td>2020-07-03</td>\n",
       "      <td>15</td>\n",
       "      <td>Generic Smartphone</td>\n",
       "      <td>6</td>\n",
       "      <td>Chrome Mobile</td>\n",
       "      <td>0</td>\n",
       "      <td>0</td>\n",
       "    </tr>\n",
       "    <tr>\n",
       "      <th>8074</th>\n",
       "      <td>ffeaa0f1-1d72-4ba9-afb4-314b3b00a7c7</td>\n",
       "      <td>control</td>\n",
       "      <td>2020-07-04</td>\n",
       "      <td>9</td>\n",
       "      <td>Generic Smartphone</td>\n",
       "      <td>6</td>\n",
       "      <td>Chrome Mobile</td>\n",
       "      <td>0</td>\n",
       "      <td>0</td>\n",
       "    </tr>\n",
       "    <tr>\n",
       "      <th>8075</th>\n",
       "      <td>ffeeed62-3f7c-4a6e-8ba7-95d303d40969</td>\n",
       "      <td>exposed</td>\n",
       "      <td>2020-07-05</td>\n",
       "      <td>15</td>\n",
       "      <td>Samsung SM-A515F</td>\n",
       "      <td>6</td>\n",
       "      <td>Samsung Internet</td>\n",
       "      <td>0</td>\n",
       "      <td>0</td>\n",
       "    </tr>\n",
       "    <tr>\n",
       "      <th>8076</th>\n",
       "      <td>fffbb9ff-568a-41a5-a0c3-6866592f80d8</td>\n",
       "      <td>control</td>\n",
       "      <td>2020-07-10</td>\n",
       "      <td>14</td>\n",
       "      <td>Samsung SM-G960F</td>\n",
       "      <td>6</td>\n",
       "      <td>Facebook</td>\n",
       "      <td>0</td>\n",
       "      <td>0</td>\n",
       "    </tr>\n",
       "  </tbody>\n",
       "</table>\n",
       "<p>8077 rows × 9 columns</p>\n",
       "</div>"
      ],
      "text/plain": [
       "                                auction_id experiment        date  hour  \\\n",
       "0     0008ef63-77a7-448b-bd1e-075f42c55e39    exposed  2020-07-10     8   \n",
       "1     000eabc5-17ce-4137-8efe-44734d914446    exposed  2020-07-07    10   \n",
       "2     0016d14a-ae18-4a02-a204-6ba53b52f2ed    exposed  2020-07-05     2   \n",
       "3     00187412-2932-4542-a8ef-3633901c98d9    control  2020-07-03    15   \n",
       "4     001a7785-d3fe-4e11-a344-c8735acacc2c    control  2020-07-03    15   \n",
       "...                                    ...        ...         ...   ...   \n",
       "8072  ffea24ec-cec1-43fb-b1d1-8f93828c2be2    exposed  2020-07-05     7   \n",
       "8073  ffea3210-2c3e-426f-a77d-0aa72e73b20f    control  2020-07-03    15   \n",
       "8074  ffeaa0f1-1d72-4ba9-afb4-314b3b00a7c7    control  2020-07-04     9   \n",
       "8075  ffeeed62-3f7c-4a6e-8ba7-95d303d40969    exposed  2020-07-05    15   \n",
       "8076  fffbb9ff-568a-41a5-a0c3-6866592f80d8    control  2020-07-10    14   \n",
       "\n",
       "             device_make  platform_os                browser  yes  no  \n",
       "0     Generic Smartphone            6          Chrome Mobile    0   0  \n",
       "1     Generic Smartphone            6          Chrome Mobile    0   0  \n",
       "2                  E5823            6  Chrome Mobile WebView    0   1  \n",
       "3      Samsung SM-A705FN            6               Facebook    0   0  \n",
       "4     Generic Smartphone            6          Chrome Mobile    0   0  \n",
       "...                  ...          ...                    ...  ...  ..  \n",
       "8072  Generic Smartphone            6          Chrome Mobile    0   0  \n",
       "8073  Generic Smartphone            6          Chrome Mobile    0   0  \n",
       "8074  Generic Smartphone            6          Chrome Mobile    0   0  \n",
       "8075    Samsung SM-A515F            6       Samsung Internet    0   0  \n",
       "8076    Samsung SM-G960F            6               Facebook    0   0  \n",
       "\n",
       "[8077 rows x 9 columns]"
      ]
     },
     "execution_count": 13,
     "metadata": {},
     "output_type": "execute_result"
    }
   ],
   "source": [
    "df = pd.read_csv('../data/AdSmartABdata.csv', isna = )\n",
    "df"
   ]
  },
  {
   "cell_type": "code",
   "execution_count": 16,
   "id": "1a64b195",
   "metadata": {},
   "outputs": [
    {
     "data": {
      "text/plain": [
       "auction_id     0\n",
       "experiment     0\n",
       "date           0\n",
       "hour           0\n",
       "device_make    0\n",
       "platform_os    0\n",
       "browser        0\n",
       "yes            0\n",
       "no             0\n",
       "dtype: int64"
      ]
     },
     "execution_count": 16,
     "metadata": {},
     "output_type": "execute_result"
    }
   ],
   "source": [
    "df.isna().sum()"
   ]
  },
  {
   "cell_type": "code",
   "execution_count": 18,
   "id": "3c82a911",
   "metadata": {
    "collapsed": true
   },
   "outputs": [
    {
     "name": "stdout",
     "output_type": "stream",
     "text": [
      "Absent\n",
      "Absent\n",
      "Absent\n"
     ]
    }
   ],
   "source": [
    "for i in [\"n/a\", \"na\", \"undefined\"]:\n",
    "    if i in df:\n",
    "        print(f'{i} present')\n",
    "    else:\n",
    "        print('Absent')"
   ]
  },
  {
   "cell_type": "markdown",
   "id": "950a9977",
   "metadata": {},
   "source": [
    "This is used to determine whether there are cells in the dataset that contain the listed values which are same as having null values. If they wer present, we would have been prompted to fill them in appropriate ways"
   ]
  },
  {
   "cell_type": "code",
   "execution_count": 14,
   "id": "1bc563bb",
   "metadata": {},
   "outputs": [
    {
     "name": "stdout",
     "output_type": "stream",
     "text": [
      "<class 'pandas.core.frame.DataFrame'>\n",
      "RangeIndex: 8077 entries, 0 to 8076\n",
      "Data columns (total 9 columns):\n",
      " #   Column       Non-Null Count  Dtype \n",
      "---  ------       --------------  ----- \n",
      " 0   auction_id   8077 non-null   object\n",
      " 1   experiment   8077 non-null   object\n",
      " 2   date         8077 non-null   object\n",
      " 3   hour         8077 non-null   int64 \n",
      " 4   device_make  8077 non-null   object\n",
      " 5   platform_os  8077 non-null   int64 \n",
      " 6   browser      8077 non-null   object\n",
      " 7   yes          8077 non-null   int64 \n",
      " 8   no           8077 non-null   int64 \n",
      "dtypes: int64(4), object(5)\n",
      "memory usage: 568.0+ KB\n"
     ]
    }
   ],
   "source": [
    "df.info()"
   ]
  },
  {
   "cell_type": "code",
   "execution_count": 25,
   "id": "c60f6893",
   "metadata": {},
   "outputs": [
    {
     "data": {
      "text/plain": [
       "(8077, 9)"
      ]
     },
     "execution_count": 25,
     "metadata": {},
     "output_type": "execute_result"
    }
   ],
   "source": [
    "df.shape"
   ]
  },
  {
   "cell_type": "code",
   "execution_count": 26,
   "id": "435af4ce",
   "metadata": {},
   "outputs": [
    {
     "data": {
      "text/html": [
       "<div>\n",
       "<style scoped>\n",
       "    .dataframe tbody tr th:only-of-type {\n",
       "        vertical-align: middle;\n",
       "    }\n",
       "\n",
       "    .dataframe tbody tr th {\n",
       "        vertical-align: top;\n",
       "    }\n",
       "\n",
       "    .dataframe thead th {\n",
       "        text-align: right;\n",
       "    }\n",
       "</style>\n",
       "<table border=\"1\" class=\"dataframe\">\n",
       "  <thead>\n",
       "    <tr style=\"text-align: right;\">\n",
       "      <th></th>\n",
       "      <th>hour</th>\n",
       "      <th>platform_os</th>\n",
       "      <th>yes</th>\n",
       "      <th>no</th>\n",
       "    </tr>\n",
       "  </thead>\n",
       "  <tbody>\n",
       "    <tr>\n",
       "      <th>count</th>\n",
       "      <td>8077.000000</td>\n",
       "      <td>8077.000000</td>\n",
       "      <td>8077.000000</td>\n",
       "      <td>8077.000000</td>\n",
       "    </tr>\n",
       "    <tr>\n",
       "      <th>mean</th>\n",
       "      <td>11.615080</td>\n",
       "      <td>5.947134</td>\n",
       "      <td>0.070818</td>\n",
       "      <td>0.083075</td>\n",
       "    </tr>\n",
       "    <tr>\n",
       "      <th>std</th>\n",
       "      <td>5.734879</td>\n",
       "      <td>0.224333</td>\n",
       "      <td>0.256537</td>\n",
       "      <td>0.276013</td>\n",
       "    </tr>\n",
       "    <tr>\n",
       "      <th>min</th>\n",
       "      <td>0.000000</td>\n",
       "      <td>5.000000</td>\n",
       "      <td>0.000000</td>\n",
       "      <td>0.000000</td>\n",
       "    </tr>\n",
       "    <tr>\n",
       "      <th>25%</th>\n",
       "      <td>7.000000</td>\n",
       "      <td>6.000000</td>\n",
       "      <td>0.000000</td>\n",
       "      <td>0.000000</td>\n",
       "    </tr>\n",
       "    <tr>\n",
       "      <th>50%</th>\n",
       "      <td>13.000000</td>\n",
       "      <td>6.000000</td>\n",
       "      <td>0.000000</td>\n",
       "      <td>0.000000</td>\n",
       "    </tr>\n",
       "    <tr>\n",
       "      <th>75%</th>\n",
       "      <td>15.000000</td>\n",
       "      <td>6.000000</td>\n",
       "      <td>0.000000</td>\n",
       "      <td>0.000000</td>\n",
       "    </tr>\n",
       "    <tr>\n",
       "      <th>max</th>\n",
       "      <td>23.000000</td>\n",
       "      <td>7.000000</td>\n",
       "      <td>1.000000</td>\n",
       "      <td>1.000000</td>\n",
       "    </tr>\n",
       "  </tbody>\n",
       "</table>\n",
       "</div>"
      ],
      "text/plain": [
       "              hour  platform_os          yes           no\n",
       "count  8077.000000  8077.000000  8077.000000  8077.000000\n",
       "mean     11.615080     5.947134     0.070818     0.083075\n",
       "std       5.734879     0.224333     0.256537     0.276013\n",
       "min       0.000000     5.000000     0.000000     0.000000\n",
       "25%       7.000000     6.000000     0.000000     0.000000\n",
       "50%      13.000000     6.000000     0.000000     0.000000\n",
       "75%      15.000000     6.000000     0.000000     0.000000\n",
       "max      23.000000     7.000000     1.000000     1.000000"
      ]
     },
     "execution_count": 26,
     "metadata": {},
     "output_type": "execute_result"
    }
   ],
   "source": [
    "df.describe()"
   ]
  },
  {
   "cell_type": "markdown",
   "id": "affe6c9b",
   "metadata": {},
   "source": [
    "## Univariate Analysis"
   ]
  },
  {
   "cell_type": "code",
   "execution_count": 28,
   "id": "82ee6f51",
   "metadata": {},
   "outputs": [
    {
     "data": {
      "text/plain": [
       "270"
      ]
     },
     "execution_count": 28,
     "metadata": {},
     "output_type": "execute_result"
    }
   ],
   "source": [
    "#Unique value counts of categorical variables and their plots\n",
    "\n",
    "#Unique value counts of device_make\n",
    "df['device_make'].count()"
   ]
  },
  {
   "cell_type": "code",
   "execution_count": 64,
   "id": "602b73b3",
   "metadata": {},
   "outputs": [
    {
     "data": {
      "text/plain": [
       "Generic Smartphone    4743\n",
       "iPhone                 433\n",
       "Samsung SM-G960F       203\n",
       "Samsung SM-G973F       154\n",
       "Samsung SM-G950F       148\n",
       "Samsung SM-G930F       100\n",
       "Samsung SM-G975F        97\n",
       "Samsung SM-A202F        88\n",
       "Samsung SM-A405FN       87\n",
       "Samsung SM-J330FN       69\n",
       "Name: device_make, dtype: int64"
      ]
     },
     "execution_count": 64,
     "metadata": {},
     "output_type": "execute_result"
    }
   ],
   "source": [
    "df['device_make'].value_counts()[:10]"
   ]
  },
  {
   "cell_type": "code",
   "execution_count": 77,
   "id": "c07a4f13",
   "metadata": {},
   "outputs": [],
   "source": [
    "def plot_univariate(x, title):\n",
    "    plt.figure(figsize=(12, 6))\n",
    "    sns.countplot(data=df, x=x)\n",
    "    plt.title(title)\n",
    "    plt.xticks(rotation=45)\n",
    "    plt.show()"
   ]
  },
  {
   "cell_type": "markdown",
   "id": "e02e1c9d",
   "metadata": {},
   "source": [
    "A function that plots the univariate analysis of the input variable specifying the number of variable to be displayed"
   ]
  },
  {
   "cell_type": "code",
   "execution_count": 99,
   "id": "38339744",
   "metadata": {},
   "outputs": [
    {
     "data": {
      "text/plain": [
       "<AxesSubplot:title={'center':'Device make Total Counts'}, xlabel='device_make', ylabel='Counts'>"
      ]
     },
     "execution_count": 99,
     "metadata": {},
     "output_type": "execute_result"
    },
    {
     "data": {
      "text/plain": [
       "<Figure size 864x432 with 0 Axes>"
      ]
     },
     "metadata": {},
     "output_type": "display_data"
    },
    {
     "data": {
      "image/png": "[encoded data removed]",
      "text/plain": [
       "<Figure size 432x288 with 1 Axes>"
      ]
     },
     "metadata": {
      "needs_background": "light"
     },
     "output_type": "display_data"
    }
   ],
   "source": [
    "fig, ax = plt.subplots()\n",
    "ax.tick_params(axis='x', labelsize=10)\n",
    "ax.tick_params(axis='y', labelsize=10)\n",
    "ax.set_xlabel('device_make', fontsize=10)\n",
    "ax.set_ylabel('Counts' , fontsize=10)\n",
    "ax.set_title('Device make Total Counts', fontsize=10)\n",
    "df['device_make'].value_counts()[:20].plot(ax=ax, kind='bar', color='orange')"
   ]
  },
  {
   "cell_type": "code",
   "execution_count": 43,
   "id": "e93a3fc0",
   "metadata": {},
   "outputs": [
    {
     "data": {
      "text/plain": [
       "15"
      ]
     },
     "execution_count": 43,
     "metadata": {},
     "output_type": "execute_result"
    }
   ],
   "source": [
    "#Unique value count for browser of the user\n",
    "\n",
    "df['browser'].nunique()"
   ]
  },
  {
   "cell_type": "code",
   "execution_count": 44,
   "id": "e608b436",
   "metadata": {},
   "outputs": [
    {
     "data": {
      "text/plain": [
       "Chrome Mobile                 4554\n",
       "Chrome Mobile WebView         1489\n",
       "Samsung Internet               824\n",
       "Facebook                       764\n",
       "Mobile Safari                  337\n",
       "Chrome Mobile iOS               51\n",
       "Mobile Safari UI/WKWebView      44\n",
       "Chrome                           3\n",
       "Pinterest                        3\n",
       "Opera Mobile                     3\n",
       "Firefox Mobile                   1\n",
       "Android                          1\n",
       "Puffin                           1\n",
       "Opera Mini                       1\n",
       "Edge Mobile                      1\n",
       "Name: browser, dtype: int64"
      ]
     },
     "execution_count": 44,
     "metadata": {},
     "output_type": "execute_result"
    }
   ],
   "source": [
    "df['browser'].value_counts()"
   ]
  },
  {
   "cell_type": "code",
   "execution_count": 55,
   "id": "5b5437a7",
   "metadata": {
    "scrolled": true
   },
   "outputs": [
    {
     "data": {
      "image/png": "[encoded data removed]",
      "text/plain": [
       "<Figure size 864x432 with 1 Axes>"
      ]
     },
     "metadata": {
      "needs_background": "light"
     },
     "output_type": "display_data"
    }
   ],
   "source": [
    "plot_univariate('browser', 'Unique value counts of the browser column')"
   ]
  },
  {
   "cell_type": "code",
   "execution_count": 57,
   "id": "15466153",
   "metadata": {},
   "outputs": [
    {
     "data": {
      "image/png": "[encoded data removed]",
      "text/plain": [
       "<Figure size 864x432 with 1 Axes>"
      ]
     },
     "metadata": {
      "needs_background": "light"
     },
     "output_type": "display_data"
    }
   ],
   "source": [
    "#Unique value count for date\n",
    "\n",
    "df['date'].nunique()\n",
    "plot_univariate('date', 'Unique value counts of dates data were collected ')"
   ]
  },
  {
   "cell_type": "code",
   "execution_count": 58,
   "id": "081ae70f",
   "metadata": {},
   "outputs": [
    {
     "data": {
      "image/png": "[encoded data removed]",
      "text/plain": [
       "<Figure size 864x432 with 1 Axes>"
      ]
     },
     "metadata": {
      "needs_background": "light"
     },
     "output_type": "display_data"
    }
   ],
   "source": [
    "#Unique value count for platform_os\n",
    "\n",
    "df['platform_os'].nunique()plot_univariate('platform_os', 'Unique value counts of platform_os ')\n",
    "\n",
    "# platform_os"
   ]
  },
  {
   "cell_type": "code",
   "execution_count": 59,
   "id": "8f1b7928",
   "metadata": {
    "scrolled": false
   },
   "outputs": [
    {
     "data": {
      "image/png": "[encoded data removed]",
      "text/plain": [
       "<Figure size 864x432 with 1 Axes>"
      ]
     },
     "metadata": {
      "needs_background": "light"
     },
     "output_type": "display_data"
    }
   ],
   "source": [
    "#Unique value count for experiment\n",
    "plot_univariate('experiment', 'Unique value counts of experiment ')\n",
    "\n",
    "# experiment"
   ]
  },
  {
   "cell_type": "markdown",
   "id": "82ebdbc1",
   "metadata": {},
   "source": [
    "The graph determines the count of the exposed vs the control groups"
   ]
  },
  {
   "cell_type": "code",
   "execution_count": 88,
   "id": "39bbbadc",
   "metadata": {
    "scrolled": true
   },
   "outputs": [
    {
     "data": {
      "text/plain": [
       "572"
      ]
     },
     "execution_count": 88,
     "metadata": {},
     "output_type": "execute_result"
    }
   ],
   "source": [
    "# unique number of people who are aware of the company\n",
    "counts_yes = df['yes'].value_counts()[1]\n",
    "counts_yes"
   ]
  },
  {
   "cell_type": "code",
   "execution_count": 89,
   "id": "a3938a3d",
   "metadata": {},
   "outputs": [
    {
     "data": {
      "text/plain": [
       "671"
      ]
     },
     "execution_count": 89,
     "metadata": {},
     "output_type": "execute_result"
    }
   ],
   "source": [
    "# unique number of people who are not aware of the company\n",
    "counts_no = df['no'].value_counts()[1]\n",
    "counts_no"
   ]
  },
  {
   "cell_type": "code",
   "execution_count": 93,
   "id": "e26352e5",
   "metadata": {},
   "outputs": [
    {
     "data": {
      "text/plain": [
       "6834"
      ]
     },
     "execution_count": 93,
     "metadata": {},
     "output_type": "execute_result"
    }
   ],
   "source": [
    "#Number of people who did not respond to the questionnaire\n",
    "df.shape[0] - (counts_yes + counts_no)"
   ]
  },
  {
   "cell_type": "markdown",
   "id": "865af244",
   "metadata": {},
   "source": [
    "## Bivariate Analysis"
   ]
  },
  {
   "cell_type": "code",
   "execution_count": 94,
   "id": "b313ad5a",
   "metadata": {
    "scrolled": true
   },
   "outputs": [
    {
     "data": {
      "image/png": "[encoded data removed]",
      "text/plain": [
       "<Figure size 864x432 with 1 Axes>"
      ]
     },
     "metadata": {
      "needs_background": "light"
     },
     "output_type": "display_data"
    }
   ],
   "source": [
    "# data against experiment\n",
    "plt.figure(figsize=(12, 6))\n",
    "sns.countplot(data=df, x=\"date\", hue=\"experiment\")\n",
    "plt.title('Experiment vs Date')\n",
    "plt.show()\n"
   ]
  },
  {
   "cell_type": "markdown",
   "id": "4c6344ef",
   "metadata": {},
   "source": [
    "The graphs determine the total number of responses generated from both the control and exposed group within the specified days"
   ]
  },
  {
   "cell_type": "code",
   "execution_count": 104,
   "id": "5f720da5",
   "metadata": {},
   "outputs": [
    {
     "data": {
      "image/png": "[encoded data removed]",
      "text/plain": [
       "<Figure size 864x432 with 1 Axes>"
      ]
     },
     "metadata": {
      "needs_background": "light"
     },
     "output_type": "display_data"
    }
   ],
   "source": [
    "\n",
    "# data against device_make\n",
    "plt.figure(figsize=(12, 6))\n",
    "sns.countplot(data=df, x=\"browser\", hue=\"experiment\")\n",
    "plt.title('Experiment against browser')\n",
    "plt.xticks(rotation=45)\n",
    "plt.show()"
   ]
  },
  {
   "cell_type": "markdown",
   "id": "2b206fcb",
   "metadata": {},
   "source": [
    "The graph describes the number of the browser types used by both the control and exposed groups to give feedback"
   ]
  },
  {
   "cell_type": "code",
   "execution_count": null,
   "id": "8e458eef",
   "metadata": {},
   "outputs": [],
   "source": []
  }
 ],
 "metadata": {
  "kernelspec": {
   "display_name": "10_acad",
   "language": "python",
   "name": "10_acad"
  },
  "language_info": {
   "codemirror_mode": {
    "name": "ipython",
    "version": 3
   },
   "file_extension": ".py",
   "mimetype": "text/x-python",
   "name": "python",
   "nbconvert_exporter": "python",
   "pygments_lexer": "ipython3",
   "version": "3.6.13"
  }
 },
 "nbformat": 4,
 "nbformat_minor": 5
}
